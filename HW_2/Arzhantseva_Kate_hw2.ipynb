{
  "cells": [
    {
      "cell_type": "markdown",
      "metadata": {
        "id": "xPCW0t6jIduY"
      },
      "source": [
        "## 1. Подсчет количества дней\n",
        "\n",
        "Создай целочисленные переменные, которые отвечают за:\n",
        "- количество дней для проращивания семян\n",
        "- количество дней для выращивания рассады\n",
        "- количество дней до плодоношения\n",
        "\n",
        "Сложи все три переменные. Выведи на экран результат - число дней от момента начала проращивания семян до момента, когда созреют помидоры."
      ]
    },
    {
      "cell_type": "code",
      "execution_count": 184,
      "metadata": {
        "id": "O6sEcKdFIMZb"
      },
      "outputs": [
        {
          "name": "stdout",
          "output_type": "stream",
          "text": [
            "18\n"
          ]
        }
      ],
      "source": [
        "seeds_day = 5\n",
        "seedlings_day = 7\n",
        "fruits_day = 6\n",
        "\n",
        "print (seeds_day + seedlings_day + fruits_day)"
      ]
    },
    {
      "cell_type": "markdown",
      "metadata": {
        "id": "ZmLLCikNIAdT"
      },
      "source": [
        "## 2. Сохранение данных о сорте.\n",
        "\n",
        "Продуктивность сорта считается по простой формуле - [количество кг, собранных со всех кустов] / [количество кустов]\n",
        "\n",
        "Считай с клавиатуры количество килограмм, собранных со всех кустов и количество кустов (целые числа). Подели и округли до 2 знаков после запятой, результат выведи на экран."
      ]
    },
    {
      "cell_type": "code",
      "execution_count": 185,
      "metadata": {
        "id": "IWNzBK6AIouo"
      },
      "outputs": [
        {
          "name": "stdout",
          "output_type": "stream",
          "text": [
            "42.86\n"
          ]
        }
      ],
      "source": [
        "fruits = 300\n",
        "bushes = 7\n",
        "\n",
        "print (round(fruits/bushes, 2))"
      ]
    },
    {
      "cell_type": "markdown",
      "metadata": {
        "id": "O9dAr1NdJpyT"
      },
      "source": [
        "## 3. Средняя сладость клубники.\n",
        "\n",
        "Ваша бабушка решила поспорить с соседкой, у кого клубника более сладкая. Они посадили кусты и потом оценили сладость клубники, собранной с каждого из кустов, по шкале от 0 до 10. Ваша задача - посчитать среднее для двух массивов и определить, у кого слаще клубника в среднем."
      ]
    },
    {
      "cell_type": "code",
      "execution_count": 186,
      "metadata": {
        "id": "oy8HPWpiIpOv"
      },
      "outputs": [
        {
          "name": "stdout",
          "output_type": "stream",
          "text": [
            "Grandma best\n"
          ]
        }
      ],
      "source": [
        "from statistics import mean # вы мне разрешили использовать эту функции вместо деления на len\n",
        "\n",
        "grandma_strawberries = [5, 7, 10, 9, 3, 10]\n",
        "neighbour_strawberries = [10, 6, 2, 3]\n",
        "\n",
        "grandma_mean = mean(grandma_strawberries)\n",
        "neighbour_mean = mean(neighbour_strawberries)\n",
        "\n",
        "print(\"Grandma best\") if grandma_mean >= neighbour_mean else print(\"Neighboor best, unfortunately\")"
      ]
    },
    {
      "cell_type": "markdown",
      "metadata": {
        "id": "EYjJBGLsRC4y"
      },
      "source": [
        "## 4. Список растений на даче.\n",
        "\n",
        "У вас есть список растений на даче у бабушки. <font color=\"#8000FF\"> При помощи форматирования строк </font> выведите список растений **в алфавитном порядке** в виде:\n",
        "\n",
        "N. Название растения."
      ]
    },
    {
      "cell_type": "code",
      "execution_count": 187,
      "metadata": {
        "id": "z2_PuewtIpWs"
      },
      "outputs": [
        {
          "name": "stdout",
          "output_type": "stream",
          "text": [
            "1) картошка\n",
            "2) клубника\n",
            "3) мальва\n",
            "4) огурцы\n",
            "5) подсолнухи\n",
            "6) томаты\n",
            "7) флоксы\n",
            "8) хосты\n"
          ]
        }
      ],
      "source": [
        "plants = [\"мальва\", \"клубника\", \"томаты\", \"огурцы\", \"флоксы\", \"картошка\", \"подсолнухи\", \"хосты\"]\n",
        "\n",
        "plants_alf = sorted(plants)\n",
        "\n",
        "for plant in plants_alf:\n",
        "  print(f\"{plants_alf.index(plant) +1}) {plant}\")"
      ]
    },
    {
      "cell_type": "markdown",
      "metadata": {
        "id": "amXMFPIxKq7s"
      },
      "source": [
        "## 5. Погода на улице.\n",
        "\n",
        "Сейчас весна, у вашей бабушки уже высажена рассада перцев в парник. Однако она боится заморозков. Ваша задача - считать с клавиатуры значение температуры:\n",
        "\n",
        "Если t<5, надо вывести \"Пожалуйста, закрой полностью парник - на улице холодно\";\n",
        "\n",
        "Если t от 5 до 10, надо вывести \"Пожалуйста, прикрой парник - на улице прохладно\";\n",
        "\n",
        "Если t больше 10, надо вывести \"Пожалуйста, открой полностью парник - на улице тепло\"."
      ]
    },
    {
      "cell_type": "code",
      "execution_count": 188,
      "metadata": {
        "id": "F9Xwk-ldIpeY"
      },
      "outputs": [
        {
          "name": "stdout",
          "output_type": "stream",
          "text": [
            "Пожалуйста, открой полностью парник - на улице тепло\n",
            "12\n"
          ]
        }
      ],
      "source": [
        "import random\n",
        "\n",
        "t = random.randint(0,15)\n",
        "\n",
        "print(\"Пожалуйста, закрой полностью парник - на улице холодно\") if t<5 else print(\"Пожалуйста, прикрой парник - на улице прохладно\") if t <=10 and t>=5 else print( \"Пожалуйста, открой полностью парник - на улице тепло\")\n",
        "\n",
        "print(t)"
      ]
    },
    {
      "cell_type": "markdown",
      "metadata": {
        "id": "AoT449EwIoN0"
      },
      "source": [
        "## 6. Список любимых томатов.\n",
        "\n",
        "У вашей бабушки есть любимые сорта томатов, но не все из них она посадила в этом году. У вас есть словарь, где ключ - название сорта, а по значению лежит количество кустов, высаженных в этом году.\n",
        "\n",
        "Ваша задача - вывести список сортов, которые были высажены в этом году (если высажено 0 кустов, то этот сорт в этом году не сажался)."
      ]
    },
    {
      "cell_type": "code",
      "execution_count": 189,
      "metadata": {
        "id": "r61uXx7PIpkJ"
      },
      "outputs": [
        {
          "name": "stdout",
          "output_type": "stream",
          "text": [
            "Бычье сердце\n",
            "Любаша\n",
            "Космонавт Волков\n",
            "Х\n"
          ]
        }
      ],
      "source": [
        "tomatoes = {\"Бычье сердце\": 4, \"Любаша\": 1, \"Титаник\": 0, \"Космонавт Волков\": 7}\n",
        "tomatoes[\"Х\"] = 5\n",
        "\n",
        "for i in tomatoes.keys():\n",
        "    if tomatoes[i] > 0:\n",
        "      print(i)"
      ]
    },
    {
      "cell_type": "markdown",
      "metadata": {
        "id": "M7EBZSFGLiVy"
      },
      "source": [
        "## 7. Словари.\n",
        "\n",
        "Создайте словарь, где ключами будут числа от 0 до 20 включительно, а значения -\n",
        "1. -1, если значение ключа делится на 5\n",
        "2. 1 иначе\n",
        "\n",
        "\n",
        "<font color=\"#8000FF\"> Используйте comprehensions </font>"
      ]
    },
    {
      "cell_type": "code",
      "execution_count": 190,
      "metadata": {
        "colab": {
          "base_uri": "https://localhost:8080/"
        },
        "id": "2JxdQGZJIppV",
        "outputId": "2db3916a-496f-45ed-92e5-0a86d29728cb"
      },
      "outputs": [
        {
          "data": {
            "text/plain": [
              "{0: -1,\n",
              " 1: 1,\n",
              " 2: 1,\n",
              " 3: 1,\n",
              " 4: 1,\n",
              " 5: -1,\n",
              " 6: 1,\n",
              " 7: 1,\n",
              " 8: 1,\n",
              " 9: 1,\n",
              " 10: -1,\n",
              " 11: 1,\n",
              " 12: 1,\n",
              " 13: 1,\n",
              " 14: 1,\n",
              " 15: -1,\n",
              " 16: 1,\n",
              " 17: 1,\n",
              " 18: 1,\n",
              " 19: 1,\n",
              " 20: -1}"
            ]
          },
          "execution_count": 190,
          "metadata": {},
          "output_type": "execute_result"
        }
      ],
      "source": [
        "my_dict = {x: -1 if x % 5 == 0 else 1 for x in range(0,21)}\n",
        "my_dict"
      ]
    },
    {
      "cell_type": "markdown",
      "metadata": {
        "id": "ZTrqV-ixUhcj"
      },
      "source": [
        "## 8. Ох уж эти корейцы\n",
        "\n",
        "Вам дан список с возрастами людей в одной неизвестной корейской фирме. Вышел новый закон, который постановляет, что теперь возраст сотрудников считается не традиционным способом, а по факту рождения. Менеджер компании попросил вас перезаполнить базу данных, обновив возраст сотрудников по правилу:\n",
        "\n",
        "$age = (age + 1)$\n",
        "\n",
        " <font color=\"#8000FF\"> Используйте функцию `map`</font>"
      ]
    },
    {
      "cell_type": "code",
      "execution_count": 191,
      "metadata": {
        "colab": {
          "base_uri": "https://localhost:8080/"
        },
        "id": "60H4Zi4eMSQp",
        "outputId": "d4a68c39-3995-40c9-a9c4-afaa9fb67b8a"
      },
      "outputs": [
        {
          "data": {
            "text/plain": [
              "(52, 53)"
            ]
          },
          "execution_count": 191,
          "metadata": {},
          "output_type": "execute_result"
        }
      ],
      "source": [
        "import random\n",
        "ages = random.choices(list(range(20, 65)), k=100500)\n",
        "\n",
        "new_ages = list(map(lambda x: x +1 , ages))\n",
        "ages[1], new_ages[1]"
      ]
    },
    {
      "cell_type": "markdown",
      "metadata": {
        "id": "0wcUgWpqMls_"
      },
      "source": [
        "## 9. Ох уж эти корейцы - 2.0\n",
        "\n",
        "Условие такое же, как и в задаче 8, но теперь вам предстоит решить такую же задачу с использованием <font color=\"#8000FF\"> `list comprehensions` </font>"
      ]
    },
    {
      "cell_type": "code",
      "execution_count": 192,
      "metadata": {
        "id": "FyrL43m7Iptt"
      },
      "outputs": [
        {
          "data": {
            "text/plain": [
              "(39, 40)"
            ]
          },
          "execution_count": 192,
          "metadata": {},
          "output_type": "execute_result"
        }
      ],
      "source": [
        "ages = random.choices(list(range(20, 65)), k=100500) #скопировала, чтобы при запуске рандом обновлялся\n",
        "\n",
        "new_ages = [age + 1 for age in ages]\n",
        "ages[1], new_ages[1]"
      ]
    },
    {
      "cell_type": "markdown",
      "metadata": {
        "id": "0nk0f2oSM-dx"
      },
      "source": [
        "## 10. Много разных строк.\n",
        "\n",
        "Напишите функцию` get_extended_string_info`, принимающую на вход строку, а на выход выдаёт **7 строк через запятую**, полученные из оригинальной соответствующим преобразованием:\n",
        "\n",
        "1. Самое длинное слово в строке\n",
        "2. Количество слов в строке\n",
        "3. Переворачивает каждое слово в строке задом наперёд\n",
        "4. Удаляет все цифры из строки\n",
        "5. Заменяет все буквы верхнего регистра на нижний, а нижнего регистра на верхний\n",
        "6. Проверяет, является ли строка палиндромом (без учета пробелов, регистра и пунктуации, те только буквы и цифры)\n",
        "7. Если строка не является палиндромом, то выводит первые 5 символов строки в обратном порядке\n",
        "\n",
        "Т.е.  первая строка - самое длинное слово в исходной строке, вторая строка - количество слов в исходной строке и.т.д."
      ]
    },
    {
      "cell_type": "code",
      "execution_count": 198,
      "metadata": {
        "id": "qD-0OsRZIpw3"
      },
      "outputs": [],
      "source": [
        "import string\n",
        "\n",
        "def get_extended_string_info(text):\n",
        "    words = text.split()\n",
        "    words_wspaces = text.split(\" \")\n",
        "\n",
        "    max_word = max(words, key = len) # пункт 1\n",
        "    text_lengh = len(words) #пункт 2\n",
        "\n",
        "    reversed_text = \" \".join([word[::-1] for word in words_wspaces]) #пункт 3\n",
        "\n",
        "    no_dig_text = ''.join([i for i in text if not i.isdigit()]) #пункт 4, мне не нравится цикл. https://stackoverflow.com/questions/12851791/removing-numbers-from-string\n",
        "    change_reg_text = text.swapcase()#пункт 5\n",
        "\n",
        "    text_nopunct = ''.join({i for i in text if i not in string.punctuation })#пункт 6\n",
        "\n",
        "    if text_nopunct.lower() == text_nopunct.lower()[::-1]:\n",
        "        return max_word, text_lengh, reversed_text, no_dig_text, change_reg_text, text_nopunct\n",
        "    else:\n",
        "        return max_word, text_lengh, reversed_text, no_dig_text, change_reg_text, text_nopunct, text[:5] #пункт 7\n"
      ]
    },
    {
      "cell_type": "code",
      "execution_count": 194,
      "metadata": {},
      "outputs": [
        {
          "data": {
            "text/plain": [
              "('Gggg?) os   Ggg', 'Gggg8 os   Ggg')"
            ]
          },
          "execution_count": 194,
          "metadata": {},
          "output_type": "execute_result"
        }
      ],
      "source": [
        "#альтернатива для пункта 4 и 6\n",
        "\n",
        "import re\n",
        "\n",
        "text = 'Gggg8?) os   Ggg'\n",
        "no_dig_words = re.sub('[0-9]','', text)\n",
        "text_nopunct = re.sub( f\"[{string.punctuation}]\",'', text)\n",
        "\n",
        "no_dig_words, text_nopunct"
      ]
    },
    {
      "cell_type": "markdown",
      "metadata": {
        "id": "DSlSqjt0N0-3"
      },
      "source": [
        "## 11. Турецкие сериалы.\n",
        "\n",
        "Из администрации школы вам поступили списки турецких студентов, сдававших экзамены по математике и физике в виде словаря \"имя\": tuple(оценка по физике, оценка по математике)\n",
        "\n",
        "Если оценка ниже трех - студент не сдал, если ниже четырех - не получает стипендию. Если хотябы один предмет не сдан, то это отчисление\n",
        "\n",
        "1. <font color=\"#8000FF\"> С помощью comprehensions </font> сформируйте списки студентов, кто сдал экзамены на проход/стипу. Подумайте, какие категории вам нужны\n",
        "\n",
        "2. Сформируйте списки на стипендию и на отчисление"
      ]
    },
    {
      "cell_type": "code",
      "execution_count": 33,
      "metadata": {
        "id": "1Zf73sEgOC43"
      },
      "outputs": [],
      "source": [
        "exam_scores = {\n",
        "    \"Serkan Bolat\": (3, 4),\n",
        "    \"Burak Deniz\": (5, 3),\n",
        "    \"Ahmet Yildirim\": (2, 5),\n",
        "    \"Merve Kaya\": (4, 4),\n",
        "    \"Emre Demir\": (2, 2),\n",
        "    \"Zeynep Arslan\": (3, 3),\n",
        "    \"Mustafa Yilmaz\": (5, 4),\n",
        "    \"Elif Ozdemir\": (4, 3),\n",
        "    \"Canan Karaca\": (2, 4),\n",
        "    \"Yusuf Sahin\": (5, 5),\n",
        "    \"Selin Cengiz\": (3, 2),\n",
        "    \"Kerem Gunes\": (4, 5),\n",
        "    \"Duru Aydin\": (3, 4),\n",
        "    \"Omer Yilmaz\": (2, 3),\n",
        "    \"Esra Uysal\": (4, 4),\n",
        "    \"Halil Yalcin\": (3, 3),\n",
        "    \"Ayse Yildirim\": (5, 4),\n",
        "    \"Fatma Demir\": (2, 2),\n",
        "    \"Ali Gokce\": (4, 3),\n",
        "    \"Cemre Erdem\": (3, 5)\n",
        "}\n"
      ]
    },
    {
      "cell_type": "code",
      "execution_count": 195,
      "metadata": {
        "id": "faZRQH5pIpzu"
      },
      "outputs": [
        {
          "data": {
            "text/plain": [
              "(14,\n",
              " ['Merve Kaya',\n",
              "  'Mustafa Yilmaz',\n",
              "  'Yusuf Sahin',\n",
              "  'Kerem Gunes',\n",
              "  'Esra Uysal',\n",
              "  'Ayse Yildirim'],\n",
              " ['Ahmet Yildirim',\n",
              "  'Emre Demir',\n",
              "  'Canan Karaca',\n",
              "  'Selin Cengiz',\n",
              "  'Omer Yilmaz',\n",
              "  'Fatma Demir'])"
            ]
          },
          "execution_count": 195,
          "metadata": {},
          "output_type": "execute_result"
        }
      ],
      "source": [
        "passed_stud = [name for name, (physics, math) in exam_scores.items() if physics >= 3 and math >= 3]\n",
        "stipend_stud = [name for name, (physics, math) in exam_scores.items() if physics >= 4 and math >= 4]\n",
        "expelled_stud = [name for name, (physics, math) in exam_scores.items() if physics < 3 or math < 3]\n",
        "\n",
        "len(passed_stud), stipend_stud, expelled_stud "
      ]
    },
    {
      "cell_type": "markdown",
      "metadata": {
        "id": "vfhNtLvpOLYn"
      },
      "source": [
        "## 12. Я у мамы разработчик.\n",
        "\n",
        "Возьмите функцию из задачи 10 и переиспользуйте её, чтобы получить количество слов в строке. Ненужные переменные запихните в `_` и `*_`"
      ]
    },
    {
      "cell_type": "code",
      "execution_count": 200,
      "metadata": {
        "id": "simmTOFbIp2V"
      },
      "outputs": [
        {
          "data": {
            "text/plain": [
              "24"
            ]
          },
          "execution_count": 200,
          "metadata": {},
          "output_type": "execute_result"
        }
      ],
      "source": [
        "text = 'Я ехал на перекладных из Тифлиса. Вся поклажа моей тележки состояла из одного небольшого чемодана, который до половины был набит путевыми записками о Грузии. '\n",
        "_, text_lengh , *_ = get_extended_string_info(text)\n",
        "\n",
        "text_lengh"
      ]
    },
    {
      "cell_type": "markdown",
      "metadata": {
        "id": "uFJ9mDlv1q9-"
      },
      "source": [
        "## 13. Не перевелись ещё богатыри на Руси! - часть 1.\n",
        "\n",
        "Вам дана очень длинная строка с фамилиями, отчествами и именами потенциальных богатырей.\n",
        "\n",
        "Ваша задача - <font color=\"#8000FF\">используя цикл for</font> получить список имён из неё, после чего вывести все **уникальные** имена."
      ]
    },
    {
      "cell_type": "code",
      "execution_count": 201,
      "metadata": {
        "id": "w8gXe9q-oElJ"
      },
      "outputs": [],
      "source": [
        "slavic_names = '''\n",
        "Ратибор Васелинович Чеславов\n",
        "Веселин Истиславович Гремиславовский\n",
        "Хотимир Владимирович Жирославовский\n",
        "Бронислав Властимирович Бранимировский\n",
        "Васелин Граниславович Богданов\n",
        "Истислав Мутимирович Станиславов\n",
        "Вячеслав Велиградович Белославов\n",
        "Ярополк Хотимирович Станиславовский\n",
        "Тихомир Судиславович Васелинов\n",
        "Гранислав Истиславович Жирославов\n",
        "Белослав Мечиславович Мирославовский\n",
        "Властимир Богданович Гремиславов\n",
        "Гостевид Пересветович Мстиславов\n",
        "Бранимир Горисветович Велимиров\n",
        "Веселин Ратиборович Станиславов\n",
        "Вячеслав Истиславович Драгомыслов\n",
        "Васелин Велимирович Венцеславов\n",
        "Добромир Богославович Судиславов\n",
        "Тихомир Святославович Васелинов\n",
        "Вышеслав Граниславович Доброславов\n",
        "Драгомысл Ярославович Вышеславов\n",
        "Мечислав Гостевидович Станиславовский\n",
        "Градислав Веселинович Драгомыслов\n",
        "Доброслав Велимирович Святополков\n",
        "Пересвет Хотимирович Тихомиров\n",
        "Святослав Тихомирович Граниславов\n",
        "Жирослав Гремиславович Богославов\n",
        "Гранислав Перемыслович Васелинов\n",
        "Гостевид Хотимирович Ратиборов\n",
        "Гостевид Мутимирович Томиславов\n",
        "Тихомир Владимирович Веселинов\n",
        "Мстислав Хотимирович Истиславовский\n",
        "Чеслав Святополкович Веселинов\n",
        "Владимир Истиславович Властимиров\n",
        "Добромир Святополкович Доброжиров\n",
        "Томислав Истиславович Судиславовский\n",
        "Веселин Хотимирович Мстиславов\n",
        "Владимир Яромирович Судиславов\n",
        "Добромир Судиславович Жирославов\n",
        "Вышеслав Милорадович Белославовский\n",
        "Судислав Властимирович Бранимиров\n",
        "Перемысл Жирославович Бранимиров\n",
        "Драгомир Добромирович Мирославов\n",
        "Вячеслав Доброславович Судиславов\n",
        "Хотимир Перемыслович Богославов\n",
        "Веселин Мстиславович Ясномыслов\n",
        "Яромир Велиградович Истиславов\n",
        "Яромир Граниславович Веселиновский\n",
        "Ярослав Жирославович Святополков\n",
        "Горисвет Ярополкович Станиславовский\n",
        "'''"
      ]
    },
    {
      "cell_type": "code",
      "execution_count": 202,
      "metadata": {},
      "outputs": [
        {
          "data": {
            "text/plain": [
              "({'Белослав',\n",
              "  'Бранимир',\n",
              "  'Бронислав',\n",
              "  'Васелин',\n",
              "  'Веселин',\n",
              "  'Владимир',\n",
              "  'Властимир',\n",
              "  'Вышеслав',\n",
              "  'Вячеслав',\n",
              "  'Горисвет',\n",
              "  'Гостевид',\n",
              "  'Градислав',\n",
              "  'Гранислав',\n",
              "  'Добромир',\n",
              "  'Доброслав',\n",
              "  'Драгомир',\n",
              "  'Драгомысл',\n",
              "  'Жирослав',\n",
              "  'Истислав',\n",
              "  'Мечислав',\n",
              "  'Мстислав',\n",
              "  'Перемысл',\n",
              "  'Пересвет',\n",
              "  'Ратибор',\n",
              "  'Святослав',\n",
              "  'Судислав',\n",
              "  'Тихомир',\n",
              "  'Томислав',\n",
              "  'Хотимир',\n",
              "  'Чеслав',\n",
              "  'Яромир',\n",
              "  'Ярополк',\n",
              "  'Ярослав'},\n",
              " 33)"
            ]
          },
          "execution_count": 202,
          "metadata": {},
          "output_type": "execute_result"
        }
      ],
      "source": [
        "words = slavic_names.split()\n",
        "names = []\n",
        "\n",
        "for i in range(0, len(words), 3):\n",
        "    names.append(words[i])\n",
        "\n",
        "unique_names = set(names)\n",
        "unique_names, len(unique_names)"
      ]
    },
    {
      "cell_type": "code",
      "execution_count": 203,
      "metadata": {},
      "outputs": [
        {
          "data": {
            "text/plain": [
              "({'Белослав',\n",
              "  'Бранимир',\n",
              "  'Бронислав',\n",
              "  'Васелин',\n",
              "  'Веселин',\n",
              "  'Владимир',\n",
              "  'Властимир',\n",
              "  'Вышеслав',\n",
              "  'Вячеслав',\n",
              "  'Горисвет',\n",
              "  'Гостевид',\n",
              "  'Градислав',\n",
              "  'Гранислав',\n",
              "  'Добромир',\n",
              "  'Доброслав',\n",
              "  'Драгомир',\n",
              "  'Драгомысл',\n",
              "  'Жирослав',\n",
              "  'Истислав',\n",
              "  'Мечислав',\n",
              "  'Мстислав',\n",
              "  'Перемысл',\n",
              "  'Пересвет',\n",
              "  'Ратибор',\n",
              "  'Святослав',\n",
              "  'Судислав',\n",
              "  'Тихомир',\n",
              "  'Томислав',\n",
              "  'Хотимир',\n",
              "  'Чеслав',\n",
              "  'Яромир',\n",
              "  'Ярополк',\n",
              "  'Ярослав'},\n",
              " 33)"
            ]
          },
          "execution_count": 203,
          "metadata": {},
          "output_type": "execute_result"
        }
      ],
      "source": [
        "names_2 = set(slavic_names.split()[::3]) #без for для проверки\n",
        "names_2, len(names_2)"
      ]
    },
    {
      "cell_type": "markdown",
      "metadata": {
        "id": "fBDeNsjooWXD"
      },
      "source": [
        "## 14. Не перевелись ещё богатыри на Руси! - часть 2.\n",
        "\n",
        "Вам дана очень длинная строка с фамилиями, отчествами и именами потенциальных богатырей.\n",
        "\n",
        "Ваша задача - <font color=\"#8000FF\">при помощи list comprehensions</font> получить список имён из неё, после чего вывести все **уникальные** имена."
      ]
    },
    {
      "cell_type": "code",
      "execution_count": 204,
      "metadata": {
        "id": "55SRUaKLrdyR"
      },
      "outputs": [
        {
          "data": {
            "text/plain": [
              "({'Белослав',\n",
              "  'Бранимир',\n",
              "  'Бронислав',\n",
              "  'Васелин',\n",
              "  'Веселин',\n",
              "  'Владимир',\n",
              "  'Властимир',\n",
              "  'Вышеслав',\n",
              "  'Вячеслав',\n",
              "  'Горисвет',\n",
              "  'Гостевид',\n",
              "  'Градислав',\n",
              "  'Гранислав',\n",
              "  'Добромир',\n",
              "  'Доброслав',\n",
              "  'Драгомир',\n",
              "  'Драгомысл',\n",
              "  'Жирослав',\n",
              "  'Истислав',\n",
              "  'Мечислав',\n",
              "  'Мстислав',\n",
              "  'Перемысл',\n",
              "  'Пересвет',\n",
              "  'Ратибор',\n",
              "  'Святослав',\n",
              "  'Судислав',\n",
              "  'Тихомир',\n",
              "  'Томислав',\n",
              "  'Хотимир',\n",
              "  'Чеслав',\n",
              "  'Яромир',\n",
              "  'Ярополк',\n",
              "  'Ярослав'},\n",
              " 33)"
            ]
          },
          "execution_count": 204,
          "metadata": {},
          "output_type": "execute_result"
        }
      ],
      "source": [
        "Unique_names_2 = set(list({words[i] for i in range(0, len(words), 3)}))\n",
        "\n",
        "Unique_names_2, len(Unique_names_2)"
      ]
    },
    {
      "cell_type": "markdown",
      "metadata": {
        "id": "QLVpQyJnK5Bc"
      },
      "source": [
        "## 15. Генератор богатырских имён.\n",
        "\n",
        "\n",
        "Современные родители любят имена с духом старины. Проанализируйте список имён (именно имён, а не отчеств/фамилий) из задачи 13. Выделите (чисто визуально) 6 возможных начал имён и 6 возможных концов имён (например, Яро - начало, Полк - конец, а вместе имя - Ярополк) и напишите функцию `generate_random_old_slavic_name`, которая при помощи random.choice выдаёт случайное имя.\n",
        "\n",
        "При помощи цикла вызовите функцию 10 раз и выведите, что получилось."
      ]
    },
    {
      "cell_type": "code",
      "execution_count": 205,
      "metadata": {
        "id": "0burcuqjMQ30"
      },
      "outputs": [
        {
          "name": "stdout",
          "output_type": "stream",
          "text": [
            "Переслав\n",
            "Гориполк\n",
            "Доброслав\n",
            "Гостесвет\n",
            "Брониполк\n",
            "Бронислав\n",
            "Бронимысл\n",
            "Бронимысл\n",
            "Гостемир\n",
            "Бронислав\n"
          ]
        }
      ],
      "source": [
        "import random\n",
        "\n",
        "def generate_random_old_slavic_name():\n",
        "\n",
        "    name_start = [\"Добро\", \"Пере\", \"Брони\", \"Госте\", \"Гори\", \"Хоти\"]\n",
        "    name_finish = [\"слав\", \"мир\", \"свет\", \"вид\", \"полк\", \"мысл\"]\n",
        "\n",
        "    return random.choice(name_start) + random.choice(name_finish)\n",
        "\n",
        "for _ in range(10):\n",
        "    print(generate_random_old_slavic_name())"
      ]
    },
    {
      "cell_type": "markdown",
      "metadata": {
        "id": "Td8QhrRJ_wdO"
      },
      "source": [
        "## 16. Один день, еще один, да один день - часть 1.\n",
        "\n",
        "Перед вами список некоторых князей Киевских и годы их правления.\n",
        "\n",
        "Ваша задача - <font color=\"#8000FF\">при помощи лямбда-функции и функции sort</font> отсортировать их в порядке возрастания количества лет, которых они провели на престоле."
      ]
    },
    {
      "cell_type": "code",
      "execution_count": 206,
      "metadata": {
        "id": "oxgCN37HJEHk"
      },
      "outputs": [],
      "source": [
        "rulers = [{\"name\": \"Олег Вещий\", \"year_start\": 882, \"year_end\": 912},\n",
        "          {\"name\": \"Игорь Рюрикович\", \"year_start\": 912, \"year_end\": 945},\n",
        "          {\"name\": \"Ольга\", \"year_start\": 945, \"year_end\": 960},\n",
        "          {\"name\": \"Святослав Игоревич\", \"year_start\": 945, \"year_end\": 972},\n",
        "          {\"name\": \"Ярополк Святославич\", \"year_start\": 972, \"year_end\": 978},\n",
        "          {\"name\": \"Владимир Святославич\", \"year_start\": 978, \"year_end\": 1015}]"
      ]
    },
    {
      "cell_type": "code",
      "execution_count": 207,
      "metadata": {
        "id": "WpbJzN82KUki"
      },
      "outputs": [
        {
          "data": {
            "text/plain": [
              "[{'name': 'Ярополк Святославич', 'year_start': 972, 'year_end': 978},\n",
              " {'name': 'Ольга', 'year_start': 945, 'year_end': 960},\n",
              " {'name': 'Святослав Игоревич', 'year_start': 945, 'year_end': 972},\n",
              " {'name': 'Олег Вещий', 'year_start': 882, 'year_end': 912},\n",
              " {'name': 'Игорь Рюрикович', 'year_start': 912, 'year_end': 945},\n",
              " {'name': 'Владимир Святославич', 'year_start': 978, 'year_end': 1015}]"
            ]
          },
          "execution_count": 207,
          "metadata": {},
          "output_type": "execute_result"
        }
      ],
      "source": [
        "sorted_rulers = sorted(rulers, key=lambda x: x[\"year_end\"] - x[\"year_start\"])\n",
        "\n",
        "sorted_rulers"
      ]
    },
    {
      "cell_type": "markdown",
      "metadata": {
        "id": "VP2Nn03BKWOo"
      },
      "source": [
        "## 17. Один день, ещё один, да один день - часть 2.\n",
        "\n",
        "Перед вами список некоторых князей Киевских и годы их правления.\n",
        "\n",
        "Ваша задача - <font color=\"#8000FF\">при помощи лямбда-функции и функции filter</font> выбрать из них тех, кто правил дольше 17 лет или является Ольгой."
      ]
    },
    {
      "cell_type": "code",
      "execution_count": 208,
      "metadata": {
        "id": "hNkpXtt1KkDE"
      },
      "outputs": [
        {
          "data": {
            "text/plain": [
              "[{'name': 'Олег Вещий', 'year_start': 882, 'year_end': 912},\n",
              " {'name': 'Игорь Рюрикович', 'year_start': 912, 'year_end': 945},\n",
              " {'name': 'Ольга', 'year_start': 945, 'year_end': 960},\n",
              " {'name': 'Святослав Игоревич', 'year_start': 945, 'year_end': 972},\n",
              " {'name': 'Владимир Святославич', 'year_start': 978, 'year_end': 1015}]"
            ]
          },
          "execution_count": 208,
          "metadata": {},
          "output_type": "execute_result"
        }
      ],
      "source": [
        "filtered_rulers = list(filter(lambda x: x['year_end'] - x['year_start'] > 17 or x[\"name\"] == 'Ольга', rulers))\n",
        "\n",
        "filtered_rulers"
      ]
    },
    {
      "cell_type": "markdown",
      "metadata": {
        "id": "uQmzqitT9zCx"
      },
      "source": [
        "## 18. Кому на Руси жить хорошо - часть 1.\n",
        "\n",
        "*В Древней Руси больше всего боялись тех, кто отсидел, потому что тогда сажали на кол.*\n",
        "\n",
        "Перед вами два словаря - словарь `paid_money` - количество золота, сколько этот боярин заплатил в казну и словарь `real_money` - количество золота, которое реально заработал боярин.\n",
        "\n",
        "<font color=\"#8000FF\">При помощи цикла for</font> выведи список имён бояр, которые заплатили менее десятой части от своих настоящих доходов - это те бояре, которых в следующем месяце придётся посадить на кол."
      ]
    },
    {
      "cell_type": "code",
      "execution_count": 209,
      "metadata": {
        "id": "x_QHMKex-DM-"
      },
      "outputs": [],
      "source": [
        "paid_money = {\"Козьма Григорьевич\": 70,\n",
        "              \"Аврам Стефанович\": 101,\n",
        "              \"Захарий Григорьевич\": 15,\n",
        "              \"Онцифор Лукинич\": 208}\n",
        "\n",
        "real_money = {\"Козьма Григорьевич\": 1000,\n",
        "              \"Аврам Стефанович\": 900,\n",
        "              \"Захарий Григорьевич\": 400,\n",
        "              \"Онцифор Лукинич\": 2000}"
      ]
    },
    {
      "cell_type": "code",
      "execution_count": 210,
      "metadata": {
        "id": "_rXLJj8M-BlC"
      },
      "outputs": [
        {
          "name": "stdout",
          "output_type": "stream",
          "text": [
            "Козьма Григорьевич\n",
            "Захарий Григорьевич\n"
          ]
        }
      ],
      "source": [
        "for man in paid_money:\n",
        "  if paid_money[man] / real_money[man] < 0.1:\n",
        "    print(man)"
      ]
    },
    {
      "cell_type": "markdown",
      "metadata": {
        "id": "TAhHkr-mTY9d"
      },
      "source": [
        "## 19. Кому на Руси жить хорошо - часть 2.\n",
        "\n",
        "\n",
        "Перед вами два словаря - словарь `paid_money` - количество золота, сколько этот боярин заплатил в казну и словарь `real_money` - количество золота, которое реально заработал боярин.\n",
        "\n",
        "<font color=\"#8000FF\">При помощи list comprehension и условия</font> выведи список имён бояр, которые заплатили менее десятой части от своих настоящих доходов - это те бояре, которых в следующем месяце придётся посадить на кол."
      ]
    },
    {
      "cell_type": "code",
      "execution_count": 211,
      "metadata": {
        "id": "ORqNSSsGl12r"
      },
      "outputs": [
        {
          "data": {
            "text/plain": [
              "['Козьма Григорьевич', 'Захарий Григорьевич']"
            ]
          },
          "execution_count": 211,
          "metadata": {},
          "output_type": "execute_result"
        }
      ],
      "source": [
        "impale = [man for man in paid_money.keys() if paid_money[man] / real_money[man] <  0.1]\n",
        "\n",
        "impale"
      ]
    },
    {
      "cell_type": "markdown",
      "metadata": {
        "id": "_HJtKjsu2ABU"
      },
      "source": [
        "## 20. Здесь русский дух, здесь Русью пахнет... (2 балла)\n",
        "\n",
        "Вы задались задачей сделать самые русские духи. Для этого вы собрали несколько пробных ароматов из разных нот (ноты между ароматами могут повторяться) и провели опрос среди прохожих, спрашивая, насколько Русью пахнет данный аромат по шкале от 1 до 5 включительно.\n",
        "\n",
        "Перед вами часть ароматов и часть голосов - ваша задача:\n",
        "\n",
        "1. На основе ароматов определить множество **уникальных** нот в ароматах\n",
        "2. Определить среднее значение голосов за каждую **ноту**\n",
        "3. Вывести топ-3 ноты по среднему значению голосов - это и будут наши самые русские духи."
      ]
    },
    {
      "cell_type": "code",
      "execution_count": 212,
      "metadata": {
        "id": "zvkU2KEy2WH8"
      },
      "outputs": [],
      "source": [
        "fragrances = [{\"id\": 15, \"name\": \"Русалка\", \"notes\": \"кувшинки, вода, мох, мускус\"},\n",
        "              {\"id\": 16, \"name\": \"Жар-птица\", \"notes\": \"молоко, сандал, слива, перец\"},\n",
        "              {\"id\": 17, \"name\": \"Река-Смородина\", \"notes\": \"смородина, вода, молоко, мед\"},\n",
        "              {\"id\": 18, \"name\": \"Царевна-Лягушка\", \"notes\": \"можжевельник, вода, древесина, перец, кувшинки\"},\n",
        "              {\"id\": 19, \"name\": \"Василиса-Премудрая\", \"notes\": \"мед, яблоко, ветивер, мускус\"}]\n",
        "\n",
        "votes = [{'id': 2353, 'fragrance_id': 19, 'vote_res': 2}, {'id': 2354, 'fragrance_id': 15, 'vote_res': 2}, {'id': 2355, 'fragrance_id': 18, 'vote_res': 1}, {'id': 2356, 'fragrance_id': 19, 'vote_res': 4}, {'id': 2357, 'fragrance_id': 16, 'vote_res': 4}, {'id': 2358, 'fragrance_id': 16, 'vote_res': 1}, {'id': 2359, 'fragrance_id': 18, 'vote_res': 1}, {'id': 2360, 'fragrance_id': 15, 'vote_res': 5}, {'id': 2361, 'fragrance_id': 18, 'vote_res': 5}, {'id': 2362, 'fragrance_id': 16, 'vote_res': 4}, {'id': 2363, 'fragrance_id': 19, 'vote_res': 2}, {'id': 2364, 'fragrance_id': 17, 'vote_res': 1}, {'id': 2365, 'fragrance_id': 15, 'vote_res': 1}, {'id': 2366, 'fragrance_id': 18, 'vote_res': 5}, {'id': 2367, 'fragrance_id': 19, 'vote_res': 3}, {'id': 2368, 'fragrance_id': 17, 'vote_res': 1}, {'id': 2369, 'fragrance_id': 18, 'vote_res': 1}, {'id': 2370, 'fragrance_id': 18, 'vote_res': 3}, {'id': 2371, 'fragrance_id': 15, 'vote_res': 2}, {'id': 2372, 'fragrance_id': 17, 'vote_res': 2}, {'id': 2373, 'fragrance_id': 16, 'vote_res': 2}, {'id': 2374, 'fragrance_id': 18, 'vote_res': 3}, {'id': 2375, 'fragrance_id': 19, 'vote_res': 1}, {'id': 2376, 'fragrance_id': 16, 'vote_res': 1}, {'id': 2377, 'fragrance_id': 16, 'vote_res': 2}, {'id': 2378, 'fragrance_id': 16, 'vote_res': 3}, {'id': 2379, 'fragrance_id': 18, 'vote_res': 2}, {'id': 2380, 'fragrance_id': 18, 'vote_res': 5}, {'id': 2381, 'fragrance_id': 15, 'vote_res': 3}, {'id': 2382, 'fragrance_id': 19, 'vote_res': 5}, {'id': 2383, 'fragrance_id': 17, 'vote_res': 4}, {'id': 2384, 'fragrance_id': 18, 'vote_res': 5}, {'id': 2385, 'fragrance_id': 19, 'vote_res': 3}, {'id': 2386, 'fragrance_id': 17, 'vote_res': 3}, {'id': 2387, 'fragrance_id': 17, 'vote_res': 5}, {'id': 2388, 'fragrance_id': 18, 'vote_res': 1}, {'id': 2389, 'fragrance_id': 19, 'vote_res': 1}, {'id': 2390, 'fragrance_id': 15, 'vote_res': 1}, {'id': 2391, 'fragrance_id': 19, 'vote_res': 5}, {'id': 2392, 'fragrance_id': 15, 'vote_res': 2}, {'id': 2393, 'fragrance_id': 15, 'vote_res': 3}, {'id': 2394, 'fragrance_id': 17, 'vote_res': 5}, {'id': 2395, 'fragrance_id': 15, 'vote_res': 5}, {'id': 2396, 'fragrance_id': 17, 'vote_res': 2}, {'id': 2397, 'fragrance_id': 15, 'vote_res': 5}, {'id': 2398, 'fragrance_id': 17, 'vote_res': 5}, {'id': 2399, 'fragrance_id': 18, 'vote_res': 4}, {'id': 2400, 'fragrance_id': 16, 'vote_res': 1}, {'id': 2401, 'fragrance_id': 17, 'vote_res': 5}, {'id': 2402, 'fragrance_id': 16, 'vote_res': 3}]"
      ]
    },
    {
      "cell_type": "code",
      "execution_count": 213,
      "metadata": {
        "id": "vG9JTNLM4eSE"
      },
      "outputs": [
        {
          "data": {
            "text/plain": [
              "({'смородина': 3.3,\n",
              "  'мед': 3.1052631578947367,\n",
              "  'вода': 3.0625,\n",
              "  'древесина': 3,\n",
              "  'можжевельник': 3,\n",
              "  'кувшинки': 2.9545454545454546,\n",
              "  'мох': 2.9,\n",
              "  'мускус': 2.8947368421052633,\n",
              "  'яблоко': 2.888888888888889,\n",
              "  'ветивер': 2.888888888888889,\n",
              "  'молоко': 2.8421052631578947,\n",
              "  'перец': 2.7142857142857144,\n",
              "  'сандал': 2.3333333333333335,\n",
              "  'слива': 2.3333333333333335},\n",
              " ['смородина', 'мед', 'вода'])"
            ]
          },
          "execution_count": 213,
          "metadata": {},
          "output_type": "execute_result"
        }
      ],
      "source": [
        "from statistics import mean\n",
        "\n",
        "#пункт 1\n",
        "\n",
        "notes_set = set()\n",
        "for fragrance in fragrances:\n",
        "  fr_notes = (fragrance['notes']).split(', ')\n",
        "  for note in fr_notes:\n",
        "    notes_set.add(note)\n",
        "\n",
        "#пункт 2\n",
        "\n",
        "notes_votes = {note: [] for note in notes_set}\n",
        "\n",
        "for vote in votes:\n",
        "  id = vote['fragrance_id']\n",
        "  for note in fragrances[id%5]['notes'].split(', '):  #воспользовалась знанием о таблице, чтобы не обходить каждый раз весь набор\n",
        "    notes_votes[note].append(vote['vote_res'])\n",
        "\n",
        "for note in notes_set:\n",
        "  notes_votes[note] = mean(notes_votes[note])\n",
        "\n",
        "#пункт 3\n",
        "\n",
        "top_notes = dict(sorted(notes_votes.items(), key=lambda item: -item[1]))\n",
        "                   \n",
        "top_notes, list(top_notes.keys())[:3]"
      ]
    }
  ],
  "metadata": {
    "colab": {
      "provenance": []
    },
    "kernelspec": {
      "display_name": "Python 3",
      "name": "python3"
    },
    "language_info": {
      "codemirror_mode": {
        "name": "ipython",
        "version": 3
      },
      "file_extension": ".py",
      "mimetype": "text/x-python",
      "name": "python",
      "nbconvert_exporter": "python",
      "pygments_lexer": "ipython3",
      "version": "3.11.9"
    }
  },
  "nbformat": 4,
  "nbformat_minor": 0
}
